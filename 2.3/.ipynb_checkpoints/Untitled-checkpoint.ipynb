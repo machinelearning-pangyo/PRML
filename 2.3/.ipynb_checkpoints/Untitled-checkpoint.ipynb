{
 "cells": [
  {
   "attachments": {},
   "cell_type": "markdown",
   "metadata": {},
   "source": [
    "# 가우시안 분포\n",
    "\n",
    "![1.png](1.png)\n",
    "\n",
    "$\\mu, \\sigma ^2$은 평균과 분산\n",
    "\n",
    "### 다변량 가우시안 분포\n",
    "\n"
   ]
  },
  {
   "attachments": {},
   "cell_type": "markdown",
   "metadata": {},
   "source": [
    "![2.png](2.png)\n",
    "\n",
    "$\\mu$ 는 D 차원 평균 벡터 $\\Sigma$ 는 DxD 공분산 행렬 $| \\Sigma |$ 는 determinant of $\\Sigma$"
   ]
  },
  {
   "attachments": {},
   "cell_type": "markdown",
   "metadata": {},
   "source": [
    "# 중심 극한 정리\n",
    "\n",
    "동일한 확률분포를 가진 독립 확률 변수 n개의 평균의 분포는 n이 적당히 크다면 정규분포에 가까워진다.\n",
    "\n",
    "![3.png](3.png)"
   ]
  },
  {
   "attachments": {},
   "cell_type": "markdown",
   "metadata": {},
   "source": [
    "# 가우시안의 기하학적 형태\n",
    "\n",
    "![4.png](4.png)\n",
    "\n",
    "Δ = $\\mu$ 에서 $x$ 사이의 Mahalanobis distance와 같은 형태.\n",
    "\n",
    "- 공분산 행렬이 symmetric 이므로 eigen vector를 구할 수 있음."
   ]
  },
  {
   "attachments": {},
   "cell_type": "markdown",
   "metadata": {},
   "source": [
    "![5.png](5.png)"
   ]
  },
  {
   "attachments": {},
   "cell_type": "markdown",
   "metadata": {},
   "source": [
    "![6.png](6.png)"
   ]
  },
  {
   "attachments": {},
   "cell_type": "markdown",
   "metadata": {},
   "source": [
    "![7.png](7.png)"
   ]
  },
  {
   "attachments": {},
   "cell_type": "markdown",
   "metadata": {},
   "source": [
    "위 식을 ![4.png](4.png) 에 대입하면"
   ]
  },
  {
   "attachments": {},
   "cell_type": "markdown",
   "metadata": {},
   "source": [
    "![8.png](8.png)\n",
    "가 된다."
   ]
  },
  {
   "attachments": {},
   "cell_type": "markdown",
   "metadata": {},
   "source": [
    "그리고 $y_i$ 는 아래처럼 정의했고 ![9.png](9.png)\n",
    "벡터로 표현하면 다음과 같다."
   ]
  },
  {
   "attachments": {},
   "cell_type": "markdown",
   "metadata": {},
   "source": [
    "![10.png](10.png)"
   ]
  },
  {
   "cell_type": "markdown",
   "metadata": {},
   "source": [
    "$y_i$ 를 $x_i$ 에서 orthonormal vector $u_i$ 만큼 회전하고 이동한 것으로 볼 수 있음."
   ]
  },
  {
   "attachments": {},
   "cell_type": "markdown",
   "metadata": {},
   "source": [
    "![11.png](11.png)\n",
    "\n",
    "- 빨간선은 2차원 공간에서 가우시안 확률 밀도임. (같은 확률을 갖고 있는 선)\n",
    "- 주축은 eigen vector $u_i$ 로 결정됨."
   ]
  },
  {
   "cell_type": "markdown",
   "metadata": {},
   "source": [
    "# 가우시안 분포의 한계\n",
    "1. \n",
    "    - D개의 차원을 가진 데이터에서 총 D(D+3)/2 개의 독립적인 파라미터를 가지게 된다.\n",
    "    - μ 파라미터 D 개, 공분산은 D(D+1)/2 개\n",
    "\n",
    "    -> D 가 증가하게 되면 차수에 대해 제곱에 비례하여 모수의 개수가 증가하여 여러가지 계산이 어려워지고 공분산의 역행렬 등을 구하기가 어려워 진다.\n",
    "\n",
    "2.\n",
    "    - 단봉분포로만 표현됨. (다봉 분포는 근사할 수 없음)\n",
    "   \n",
    "그래서 가우시안 분포는 파라미터가 많아 너무 유연할수도 있고 동시에 그것이 표현할 수 있는 분포가 제한되어 있음.\n",
    "\n",
    "    - 나중에 볼 latent, hidden 변수로 해결가능\n",
    "    - mixture gaussian 모델 또한 2.3.9에 등장\n",
    "    \n",
    "    - 이 두가지를 합친 계층 모델, Markov random field 같은 것들은 이미지 확률모델에 많이 쓰임."
   ]
  },
  {
   "attachments": {},
   "cell_type": "markdown",
   "metadata": {},
   "source": [
    "# 조건부 가우시안 확률\n",
    "\n",
    "- 두개의 확률 변수의 결합 확률 분포가 가우시안이면, 조건부 확률 분포도 가우시안 분포다.\n",
    "- 동시에 두 개의 주변 확률 분포도 가우시안 분포가 된다.\n",
    "\n",
    "# 주변 가우시안 분포\n",
    "\n",
    "- $p(x_a, x_b)$가 가우시안이면 조건분 확률 분포 $p(x_a|x_b)$도 가우시안이었다.\n",
    "![12.png](12.png)\n",
    "- 또한 주변 확률 분포도 가우시안이다."
   ]
  },
  {
   "attachments": {},
   "cell_type": "markdown",
   "metadata": {},
   "source": [
    "# 가우시안 확률 변수에서 베이즈 이론\n",
    "\n",
    "지금까지 조건부, 주변 가우시안 확률 분포를 이용해 아래의 식을 찾아냄.\n",
    "\n",
    "![13.png](13.png)\n",
    "베이즈 이론을 이용해 주변부 확률 $p(y), p(x|y)$ 를 찾을 것임"
   ]
  },
  {
   "attachments": {},
   "cell_type": "markdown",
   "metadata": {},
   "source": [
    "결합 확률 분포 $p(z)=p(x)p(y|x)$ 를 $p(x|y)p(y)$의 형태로 표현하여 아래와 같은 식을 찾아냄.\n",
    "![14.png](14.png)"
   ]
  },
  {
   "attachments": {},
   "cell_type": "markdown",
   "metadata": {},
   "source": [
    "# 가우시안에서 MLE\n",
    "데이터 $X = (x_1, ... x_N)^T$ 가 있고 데이터는 다변량 가우시안 분포에서 독립적으로 나왔다고 할 때,\n",
    "\n",
    "mle 를 사용해 파라미터를 추정할 수 있음.\n",
    "\n",
    "log likelihood fn :\n",
    "![15.png](15.png)"
   ]
  },
  {
   "attachments": {},
   "cell_type": "markdown",
   "metadata": {},
   "source": [
    "미분해서 풀면, ![16.png](16.png)\n",
    "mle of mean을 구할 수 있음."
   ]
  },
  {
   "attachments": {},
   "cell_type": "markdown",
   "metadata": {},
   "source": [
    "공분산 행렬은 symmetry 와 positive definiteness가 있어야함.\n",
    "![17.png](17.png)"
   ]
  },
  {
   "attachments": {},
   "cell_type": "markdown",
   "metadata": {},
   "source": [
    "MLE 로 구한 평균과 공분산의 기댓값을 구하면, ![18.png](18.png)"
   ]
  },
  {
   "attachments": {},
   "cell_type": "markdown",
   "metadata": {},
   "source": [
    "하지만 분산의 평균은 실제보다 더 작음. biased 되어 있음.\n",
    "![19.png](19.png)"
   ]
  }
 ],
 "metadata": {
  "kernelspec": {
   "display_name": "Python 3",
   "language": "python",
   "name": "python3"
  },
  "language_info": {
   "codemirror_mode": {
    "name": "ipython",
    "version": 3
   },
   "file_extension": ".py",
   "mimetype": "text/x-python",
   "name": "python",
   "nbconvert_exporter": "python",
   "pygments_lexer": "ipython3",
   "version": "3.6.4"
  }
 },
 "nbformat": 4,
 "nbformat_minor": 2
}
